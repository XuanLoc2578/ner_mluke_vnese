{
 "cells": [
  {
   "cell_type": "code",
   "execution_count": null,
   "metadata": {
    "collapsed": true
   },
   "outputs": [],
   "source": [
    "from google.colab import drive\n",
    "drive.mount('/content/drive')"
   ]
  },
  {
   "cell_type": "code",
   "execution_count": null,
   "outputs": [],
   "source": [
    "!cd /content/drive/MyDrive/qag_pegasus/"
   ],
   "metadata": {
    "collapsed": false
   }
  },
  {
   "cell_type": "code",
   "execution_count": null,
   "outputs": [],
   "source": [
    "!pip --quiet install -r requirements.txt\n",
    "!pip --quiet install -e ."
   ],
   "metadata": {
    "collapsed": false
   }
  },
  {
   "cell_type": "code",
   "execution_count": null,
   "outputs": [],
   "source": [
    "---\n",
    "### Training"
   ],
   "metadata": {
    "collapsed": false
   }
  },
  {
   "cell_type": "code",
   "execution_count": null,
   "outputs": [],
   "source": [
    "#!/bin/bash\n",
    "\n",
    "!python ner_mluke/run_train.py \\\n",
    "    --pretrained_model_name_or_path studio-ousia/luke-large-finetuned-conll-2003 \\\n",
    "    --cache_dir mounts/model/mluke \\\n",
    "    --train_dataset_file mounts/dataset/written_train_git.txt \\\n",
    "    --dev_dataset_file mounts/dataset/written_dev_git.txt \\\n",
    "    --test_dataset_file mounts/dataset/written_test_git.txt \\\n",
    "    --max_seq_length=512 \\\n",
    "    --epochs=1 \\\n",
    "    --batch_size=4 \\\n",
    "    --num_workers=2 \\\n",
    "    --lr=0.00005\n",
    "#    --output_dir \\\n",
    "#    --read_file_dir mounts/dataset/dev_git.csv \\\n",
    "#    --write_file_dir mounts/dataset/written_dev_git.txt \\\n"
   ],
   "metadata": {
    "collapsed": false
   }
  },
  {
   "cell_type": "code",
   "execution_count": null,
   "outputs": [],
   "source": [],
   "metadata": {
    "collapsed": false
   }
  },
  {
   "cell_type": "code",
   "execution_count": null,
   "outputs": [],
   "source": [],
   "metadata": {
    "collapsed": false
   }
  },
  {
   "cell_type": "code",
   "execution_count": null,
   "outputs": [],
   "source": [],
   "metadata": {
    "collapsed": false
   }
  }
 ],
 "metadata": {
  "kernelspec": {
   "display_name": "Python 3",
   "language": "python",
   "name": "python3"
  },
  "language_info": {
   "codemirror_mode": {
    "name": "ipython",
    "version": 2
   },
   "file_extension": ".py",
   "mimetype": "text/x-python",
   "name": "python",
   "nbconvert_exporter": "python",
   "pygments_lexer": "ipython2",
   "version": "2.7.6"
  }
 },
 "nbformat": 4,
 "nbformat_minor": 0
}
